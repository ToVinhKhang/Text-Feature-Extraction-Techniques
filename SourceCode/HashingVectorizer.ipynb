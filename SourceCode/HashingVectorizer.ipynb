{
 "cells": [
  {
   "cell_type": "code",
   "execution_count": 10,
   "metadata": {},
   "outputs": [
    {
     "name": "stdout",
     "output_type": "stream",
     "text": [
      "[[ 0.          0.          0.          0.          0.         -0.5\n",
      "   0.          0.          0.          0.          0.5         0.5\n",
      "   0.          0.          0.5         0.        ]\n",
      " [ 0.          0.          0.          0.          0.          0.\n",
      "  -0.37796447  0.          0.          0.          0.37796447  0.\n",
      "   0.          0.37796447  0.75592895  0.        ]\n",
      " [ 0.          0.          0.          0.          0.          0.\n",
      "  -0.70710678  0.         -0.70710678  0.          0.          0.\n",
      "   0.          0.          0.          0.        ]\n",
      " [ 0.          0.         -0.57735027  0.          0.          0.\n",
      "   0.          0.          0.          0.          0.          0.57735027\n",
      "   0.          0.57735027  0.          0.        ]]\n"
     ]
    }
   ],
   "source": [
    "from sklearn.feature_extraction.text import HashingVectorizer\n",
    "\n",
    "corpus = [\n",
    " 'Welcome to my presentation.',\n",
    " 'This is my presentation demo.',\n",
    " 'And this is the first demo.',\n",
    " 'Is this the class HashingVectorizer?',\n",
    "]\n",
    "\n",
    "# Demo 1\n",
    "vectorizer = HashingVectorizer(n_features=2**4)\n",
    "X = vectorizer.fit_transform(corpus)\n",
    "print(X.toarray())"
   ]
  },
  {
   "cell_type": "code",
   "execution_count": 11,
   "metadata": {},
   "outputs": [
    {
     "name": "stdout",
     "output_type": "stream",
     "text": [
      "[[0.  0.  0.  0.  0.  0.5 0.  0.  0.  0.  0.5 0.5 0.  0.  0.5 0. ]\n",
      " [0.  0.  0.  0.  0.  0.  0.5 0.  0.  0.  0.5 0.  0.  0.5 0.5 0. ]\n",
      " [0.  0.  0.  0.  0.  0.  0.5 0.  0.5 0.  0.  0.  0.  0.5 0.5 0. ]\n",
      " [0.  0.  0.5 0.  0.  0.  0.  0.  0.  0.  0.  0.5 0.  0.5 0.5 0. ]]\n"
     ]
    }
   ],
   "source": [
    "# Demo 2\n",
    "vectorizer2 = HashingVectorizer(n_features=2**4, binary=True)\n",
    "X2 = vectorizer2.fit_transform(corpus)\n",
    "print(X2.toarray())"
   ]
  }
 ],
 "metadata": {
  "kernelspec": {
   "display_name": "Python 3",
   "language": "python",
   "name": "python3"
  },
  "language_info": {
   "codemirror_mode": {
    "name": "ipython",
    "version": 3
   },
   "file_extension": ".py",
   "mimetype": "text/x-python",
   "name": "python",
   "nbconvert_exporter": "python",
   "pygments_lexer": "ipython3",
   "version": "3.8.5"
  }
 },
 "nbformat": 4,
 "nbformat_minor": 4
}
