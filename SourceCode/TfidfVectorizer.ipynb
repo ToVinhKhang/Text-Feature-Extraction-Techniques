{
 "cells": [
  {
   "cell_type": "code",
   "execution_count": 3,
   "metadata": {},
   "outputs": [
    {
     "name": "stdout",
     "output_type": "stream",
     "text": [
      "['and', 'class', 'demo', 'first', 'is', 'my', 'presentation', 'tfidftransformer', 'the', 'this', 'to', 'welcome']\n"
     ]
    }
   ],
   "source": [
    "from sklearn.feature_extraction.text import TfidfVectorizer\n",
    "\n",
    "corpus = [\n",
    " 'Welcome to my presentation.',\n",
    " 'This is my presentation demo.',\n",
    " 'And this is the first demo.',\n",
    " 'Is this the class TfidfTransformer?',\n",
    "]\n",
    "\n",
    "vectorizer = TfidfVectorizer()\n",
    "X = vectorizer.fit_transform(corpus)\n",
    "print(vectorizer.get_feature_names())"
   ]
  },
  {
   "cell_type": "code",
   "execution_count": 4,
   "metadata": {},
   "outputs": [
    {
     "name": "stdout",
     "output_type": "stream",
     "text": [
      "[[0.         0.         0.         0.         0.         0.43779123\n",
      "  0.43779123 0.         0.         0.         0.55528266 0.55528266]\n",
      " [0.         0.         0.48163503 0.         0.38992506 0.48163503\n",
      "  0.48163503 0.         0.         0.38992506 0.         0.        ]\n",
      " [0.49641358 0.         0.39137817 0.49641358 0.31685436 0.\n",
      "  0.         0.         0.39137817 0.31685436 0.         0.        ]\n",
      " [0.         0.53944516 0.         0.         0.34432086 0.\n",
      "  0.         0.53944516 0.42530476 0.34432086 0.         0.        ]]\n"
     ]
    }
   ],
   "source": [
    "print(X.toarray())"
   ]
  }
 ],
 "metadata": {
  "kernelspec": {
   "display_name": "Python 3",
   "language": "python",
   "name": "python3"
  },
  "language_info": {
   "codemirror_mode": {
    "name": "ipython",
    "version": 3
   },
   "file_extension": ".py",
   "mimetype": "text/x-python",
   "name": "python",
   "nbconvert_exporter": "python",
   "pygments_lexer": "ipython3",
   "version": "3.8.5"
  }
 },
 "nbformat": 4,
 "nbformat_minor": 4
}
