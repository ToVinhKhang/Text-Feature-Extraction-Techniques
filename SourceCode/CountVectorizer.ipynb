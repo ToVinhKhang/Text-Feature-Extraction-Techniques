{
 "cells": [
  {
   "cell_type": "code",
   "execution_count": 32,
   "metadata": {},
   "outputs": [
    {
     "name": "stdout",
     "output_type": "stream",
     "text": [
      "['and', 'class', 'countvectorizer', 'demo', 'first', 'is', 'my', 'presentation', 'the', 'this', 'to', 'welcome']\n"
     ]
    }
   ],
   "source": [
    "from sklearn.feature_extraction.text import CountVectorizer\n",
    "\n",
    "corpus = [\n",
    " 'Welcome to my presentation.',\n",
    " 'This is my presentation demo.',\n",
    " 'And this is the first demo.',\n",
    " 'Is this the class CountVectorizer?',\n",
    "]\n",
    "\n",
    "# Demo 1\n",
    "vectorizer = CountVectorizer()\n",
    "X = vectorizer.fit_transform(corpus)\n",
    "print(vectorizer.get_feature_names())"
   ]
  },
  {
   "cell_type": "code",
   "execution_count": 33,
   "metadata": {},
   "outputs": [
    {
     "name": "stdout",
     "output_type": "stream",
     "text": [
      "[[0 0 0 0 0 0 1 1 0 0 1 1]\n",
      " [0 0 0 1 0 1 1 1 0 1 0 0]\n",
      " [1 0 0 1 1 1 0 0 1 1 0 0]\n",
      " [0 1 1 0 0 1 0 0 1 1 0 0]]\n"
     ]
    }
   ],
   "source": [
    "print(X.toarray())"
   ]
  },
  {
   "cell_type": "code",
   "execution_count": 36,
   "metadata": {},
   "outputs": [
    {
     "name": "stdout",
     "output_type": "stream",
     "text": [
      "['class countvectorizer', 'first demo', 'is my', 'is the', 'my presentation', 'presentation demo', 'the class', 'the first', 'to my', 'welcome to']\n"
     ]
    }
   ],
   "source": [
    "# Demo 2\n",
    "vectorizer2 = CountVectorizer(analyzer='word', ngram_range=(2, 2), stop_words=['and', 'this'])\n",
    "X2 = vectorizer2.fit_transform(corpus)\n",
    "print(vectorizer2.get_feature_names())"
   ]
  },
  {
   "cell_type": "code",
   "execution_count": 24,
   "metadata": {},
   "outputs": [
    {
     "name": "stdout",
     "output_type": "stream",
     "text": [
      "[[0 1 1 0 1 0 0 0]\n",
      " [1 0 1 1 0 1 0 0]\n",
      " [0 0 1 0 0 0 1 1]\n",
      " [0 1 1 0 1 0 0 0]]\n"
     ]
    }
   ],
   "source": [
    "print(X2.toarray())"
   ]
  },
  {
   "cell_type": "code",
   "execution_count": 25,
   "metadata": {},
   "outputs": [
    {
     "name": "stdout",
     "output_type": "stream",
     "text": [
      "frozenset({'this', 'and'})\n"
     ]
    }
   ],
   "source": [
    "print(vectorizer2.get_stop_words())"
   ]
  }
 ],
 "metadata": {
  "kernelspec": {
   "display_name": "Python 3",
   "language": "python",
   "name": "python3"
  },
  "language_info": {
   "codemirror_mode": {
    "name": "ipython",
    "version": 3
   },
   "file_extension": ".py",
   "mimetype": "text/x-python",
   "name": "python",
   "nbconvert_exporter": "python",
   "pygments_lexer": "ipython3",
   "version": "3.8.5"
  }
 },
 "nbformat": 4,
 "nbformat_minor": 4
}
